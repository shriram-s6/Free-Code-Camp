{
 "cells": [
  {
   "cell_type": "code",
   "execution_count": 1,
   "id": "e6229091",
   "metadata": {},
   "outputs": [],
   "source": [
    "import pandas as pd"
   ]
  },
  {
   "cell_type": "code",
   "execution_count": 216,
   "id": "5305efb5",
   "metadata": {},
   "outputs": [],
   "source": [
    "def calculate_demographic_data(print_data=True):\n",
    "    # Read data from file\n",
    "    df = pd.read_csv('adult.data.csv')\n",
    "    race_count = df['race'].value_counts()\n",
    "    \n",
    "    men = df[df['sex'] == 'Male']\n",
    "    average_age_men = men['age'].mean()\n",
    "    \n",
    "    bachelors = df[df['education'] == 'Bachelors']\n",
    "    percentage_bachelors = (bachelors.shape[0] / df['education'].shape[0]) * 100\n",
    "    \n",
    "    higher_education = df[(df['education'] == 'Masters') | (df['education'] == 'Doctorate') | (df['education'] == 'Bachelors')]\n",
    "    lower_education = df[(df['education'] != 'Masters') & (df['education'] != 'Doctorate') | (df['education'] != 'Bachelors')]\n",
    "    \n",
    "    higher_edu_rich = higher_education[higher_education['salary'] == '>50K'].shape[0]\n",
    "    lower_edu_rich = lower_education[lower_education['salary'] == '>50K'].shape[0]\n",
    "    \n",
    "    higher_education_rich = (higher_edu_rich / higher_education.shape[0]) * 100\n",
    "    lower_education_rich = (lower_edu_rich / lower_education.shape[0]) * 100\n",
    "    \n",
    "    min_work_hours = df['hours-per-week'].min()\n",
    "    \n",
    "    num_min_workers = df[df['hours-per-week'] == df['hours-per-week'].min()]\n",
    "    min_workers_50k = num_min_workers[num_min_workers['salary'] == '>50K'].shape[0]\n",
    "    \n",
    "    rich_percentage = (min_workers_50k / num_min_workers.shape[0]) * 100\n",
    "    \n",
    "    countries = df[['native-country', 'salary']]\n",
    "    countries_list = countries['native-country'].value_counts().index.to_list()\n",
    "    countries_dict = {}\n",
    "    count = 0\n",
    "    for country in countries_list:\n",
    "        countries_dict[country] = countries['native-country'].value_counts()[count]\n",
    "        count += 1\n",
    "    \n",
    "    highest_earners = countries[countries['salary'] == '>50K']\n",
    "    highest_earners_list = highest_earners['native-country'].value_counts().index.to_list()\n",
    "    highest_earners_dict = {}\n",
    "    counter = 0\n",
    "    for earner in highest_earners_list:\n",
    "        highest_earners_dict[earner] = highest_earners['native-country'].value_counts()[counter]\n",
    "        counter += 1\n",
    "    highest_earning_country_percentage = 0\n",
    "    highest_earning_country = ''\n",
    "    for country, count in highest_earners_dict.items():\n",
    "        percentage = (highest_earners_dict[country] / countries_dict[country]) * 100\n",
    "        percentage = round(percentage, 1)\n",
    "        \n",
    "        if percentage > highest_earning_country_percentage:\n",
    "            highest_earning_country_percentage = percentage\n",
    "            highest_earning_country = country\n",
    "        \n",
    "    # highest_earning_country = highest_earners.index.to_list()[0]\n",
    "    # highest_earning_country_percentage = (highest_earners['native-country'][0] / highest_earners['native-country'].sum()) * 100\n",
    "    \n",
    "    highest_paid_india = df[(df['native-country'] == 'India') & (df['salary'] == '>50K')]['occupation']\n",
    "    top_in_occupation = highest_paid_india.value_counts().index.to_list()[0]\n",
    "    \n",
    "    return highest_earning_country, highest_earning_country_percentage"
   ]
  },
  {
   "cell_type": "code",
   "execution_count": 217,
   "id": "76d2f06d",
   "metadata": {},
   "outputs": [
    {
     "data": {
      "text/plain": [
       "('Iran', 41.9)"
      ]
     },
     "execution_count": 217,
     "metadata": {},
     "output_type": "execute_result"
    }
   ],
   "source": [
    "calculate_demographic_data()"
   ]
  },
  {
   "cell_type": "code",
   "execution_count": null,
   "id": "7efc9930",
   "metadata": {},
   "outputs": [],
   "source": []
  }
 ],
 "metadata": {
  "kernelspec": {
   "display_name": "Python 3 (ipykernel)",
   "language": "python",
   "name": "python3"
  },
  "language_info": {
   "codemirror_mode": {
    "name": "ipython",
    "version": 3
   },
   "file_extension": ".py",
   "mimetype": "text/x-python",
   "name": "python",
   "nbconvert_exporter": "python",
   "pygments_lexer": "ipython3",
   "version": "3.9.6"
  }
 },
 "nbformat": 4,
 "nbformat_minor": 5
}
